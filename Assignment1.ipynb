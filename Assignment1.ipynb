{
  "cells": [
    {
      "cell_type": "markdown",
      "metadata": {
        "id": "view-in-github",
        "colab_type": "text"
      },
      "source": [
        "<a href=\"https://colab.research.google.com/github/vaibhavi128/Data-Science/blob/main/Assignment1.ipynb\" target=\"_parent\"><img src=\"https://colab.research.google.com/assets/colab-badge.svg\" alt=\"Open In Colab\"/></a>"
      ]
    },
    {
      "cell_type": "markdown",
      "source": [
        "**Github Link**"
      ],
      "metadata": {
        "id": "-a4H0uM7Luzr"
      }
    },
    {
      "cell_type": "code",
      "execution_count": null,
      "metadata": {
        "id": "ytw7ZDbYLl8u",
        "outputId": "77e40b30-df79-4cfa-b850-4d6c195be721"
      },
      "outputs": [
        {
          "data": {
            "text/plain": [
              "'vaibhavi'"
            ]
          },
          "execution_count": 3,
          "metadata": {},
          "output_type": "execute_result"
        }
      ],
      "source": [
        "def read_txt_from_disk(file_path):\n",
        "    with open(file_path, 'r', encoding='utf-8') as file:\n",
        "        content = file.read()\n",
        "    return content\n",
        "read_txt_from_disk('a.txt')"
      ]
    },
    {
      "cell_type": "code",
      "execution_count": null,
      "metadata": {
        "id": "8PR3TZ3uLl82",
        "outputId": "ddb9e6a6-960f-4680-e2db-d09f183e4a4d"
      },
      "outputs": [
        {
          "data": {
            "text/plain": [
              "'<!DOCTYPE html>\\n\\n        \\n        \\n      \\n    \\n    \\n    \\n    \\n\\n    \\n\\n\\n    \\n    <html lang=\"en-US\" class=\"artdeco \">\\n      <head>\\n        \\n        <meta http-equiv=\"X-UA-Compatible\" content=\"IE=EDGE\">\\n        <meta charset=\"UTF-8\">\\n        <meta name=\"viewport\" content=\"width=device-width, initial-scale=1\">\\n        <meta name=\"asset-url\" id=\"artdeco/static/images/icons.svg\" content=\"https://static.licdn.com/sc/h/6bja66gymvrvqrp5m6btz3vkz\">\\n        <title>\\n            \\n          LinkedIn Login, Sign in | LinkedIn\\n      \\n        </title>\\n        <link rel=\"shortcut icon\" href=\"https://static.licdn.com/sc/h/9lb1g1kp916tat669q9r5g2kz\">\\n        <link rel=\"apple-touch-icon\" href=\"https://static.licdn.com/sc/h/1exdo4axa6eaw1jioxh1vu4fj\">\\n        <link rel=\"apple-touch-icon-precomposed\" href=\"https://static.licdn.com/sc/h/55ggxxse8uyjdh2x78ht3j40q\">\\n        <link rel=\"apple-touch-icon-precomposed\" sizes=\"57x57\" href=\"https://static.licdn.com/sc/h/1exdo4axa6eaw1jioxh1vu4fj\">\\n        <link rel=\"apple-touch-icon-precomposed\" sizes=\"144x144\" href=\"https://static.licdn.com/sc/h/55ggxxse8uyjdh2x78ht3j40q\">\\n        <meta name=\"treeID\" content=\"AAYjCLH0vwp70po3ScYVJA==\">\\n        <meta name=\"pageKey\" content=\"d_checkpoint_lg_consumerLogin\">\\n        <meta name=\"pageInstance\" content=\"urn:li:page:checkpoint_lg_uasLogin;cJk2wAsYQKC4KnqrwYTmWA==\">\\n        <meta id=\"heartbeat_config\" data-enable-page-view-heartbeat-tracking>\\n          <meta name=\"appName\" content=\"checkpoint-frontend\">\\n<!---->\\n        \\n        <meta name=\"description\" content=\"Login to LinkedIn to keep in touch with people you know, share ideas, and build your career.\">\\n        <meta name=\"robots\" content=\"noarchive\">\\n        <meta property=\"og:site_name\" content=\"LinkedIn\">\\n        <meta property=\"og:title\" content=\"LinkedIn Login, Sign in | LinkedIn\">\\n        <meta property=\"og:description\" content=\"Login to LinkedIn to keep in touch with people you know, share ideas, and build your career.\">\\n        <meta property=\"og:type\" content=\"website\">\\n        <meta property=\"og:url\" content=\"https://www.linkedin.com\">\\n          <meta property=\"og:image\" content=\"https://static.licdn.com/scds/common/u/images/logos/favicons/v1/favicon.ico\">\\n        <meta name=\"twitter:card\" content=\"summary\">\\n        <meta name=\"twitter:site\" content=\"@linkedin\">\\n        <meta name=\"twitter:title\" content=\"LinkedIn Login, Sign in | LinkedIn\">\\n        <meta name=\"twitter:description\" content=\"Login to LinkedIn to keep in touch with people you know, share ideas, and build your career.\">\\n        \\n        \\n      \\n\\n          \\n        \\n        <link rel=\"stylesheet\" href=\"https://static.licdn.com/sc/h/15qtzam9m0ddp1hh11j0wzt7q\">\\n      \\n        \\n        \\n          \\n    <link rel=\"canonical\" href=\"https://www.linkedin.com/login\">\\n\\n    <link rel=\"alternate\" hreflang=\"ar\" href=\"https://www.linkedin.com/login/ar\">\\n    <link rel=\"alternate\" hreflang=\"cs\" href=\"https://www.linkedin.com/login/cs\">\\n    <link rel=\"alternate\" hreflang=\"da\" href=\"https://www.linkedin.com/login/da\">\\n    <link rel=\"alternate\" hreflang=\"de\" href=\"https://www.linkedin.com/login/de\">\\n    <link rel=\"alternate\" hreflang=\"en\" href=\"https://www.linkedin.com/login\">\\n    <link rel=\"alternate\" hreflang=\"es\" href=\"https://www.linkedin.com/login/es\">\\n    <link rel=\"alternate\" hreflang=\"fr\" href=\"https://www.linkedin.com/login/fr\">\\n    <link rel=\"alternate\" hreflang=\"in\" href=\"https://www.linkedin.com/login/in\">\\n    <link rel=\"alternate\" hreflang=\"it\" href=\"https://www.linkedin.com/login/it\">\\n    <link rel=\"alternate\" hreflang=\"ja\" href=\"https://www.linkedin.com/login/ja\">\\n    <link rel=\"alternate\" hreflang=\"ko\" href=\"https://www.linkedin.com/login/ko\">\\n    <link rel=\"alternate\" hreflang=\"ms\" href=\"https://www.linkedin.com/login/ms\">\\n    <link rel=\"alternate\" hreflang=\"nl\" href=\"https://www.linkedin.com/login/nl\">\\n    <link rel=\"alternate\" hreflang=\"no\" href=\"https://www.linkedin.com/login/no\">\\n    <link rel=\"alternate\" hreflang=\"pl\" href=\"https://www.linkedin.com/login/pl\">\\n    <link rel=\"alternate\" hreflang=\"pt\" href=\"https://www.linkedin.com/login/pt\">\\n    <link rel=\"alternate\" hreflang=\"ro\" href=\"https://www.linkedin.com/login/ro\">\\n    <link rel=\"alternate\" hreflang=\"ru\" href=\"https://www.linkedin.com/login/ru\">\\n    <link rel=\"alternate\" hreflang=\"sv\" href=\"https://www.linkedin.com/login/sv\">\\n    <link rel=\"alternate\" hreflang=\"th\" href=\"https://www.linkedin.com/login/th\">\\n    <link rel=\"alternate\" hreflang=\"tl\" href=\"https://www.linkedin.com/login/tl\">\\n    <link rel=\"alternate\" hreflang=\"tr\" href=\"https://www.linkedin.com/login/tr\">\\n    <link rel=\"alternate\" hreflang=\"zh\" href=\"https://www.linkedin.com/login/zh\">\\n    <link rel=\"alternate\" hreflang=\"zh-cn\" href=\"https://www.linkedin.com/login/zh\">\\n    <link rel=\"alternate\" hreflang=\"zh-tw\" href=\"https://www.linkedin.com/login/zh-tw\">\\n    <link rel=\"alternate\" hreflang=\"x-default\" href=\"https://www.linkedin.com/login\">\\n  \\n        \\n      \\n        \\n          <link rel=\"preload\" href=\"https://static.licdn.com/sc/h/dyklr3nd8py6wnrddlexzp55z\">\\n          <link rel=\"preload\" href=\"https://static.licdn.com/sc/h/56zfo9qeb8y8waamujmb0twv9\">\\n<!---->        <link rel=\"preload\" href=\"https://static.licdn.com/sc/h/473v2cdto9klp3y6gfjcs28u2\">\\n        <link rel=\"preload\" href=\"https://static.licdn.com/sc/h/ampzitlbbpoz57jxnfdtc90o8\">\\n      \\n      \\n        <link rel=\"preload\" href=\"https://static.licdn.com/sc/h/ctntk0b8ggv3nheym3hg9smyw\">\\n        <link rel=\"preload\" href=\"https://static.licdn.com/sc/h/rsw9ft7cxdop94abibtci3ae\">\\n      \\n      </head>\\n      <body class=\"system-fonts \">\\n        \\n          \\n\\n    \\n    <div id=\"app__container\" class=\"glimmer\">\\n      <header>\\n        \\n              \\n        \\n        \\n    \\n\\n    <a class=\"linkedin-logo\" href=\"/\" aria-label=\"LinkedIn\">\\n        \\n\\n        <li-icon aria-label=\"LinkedIn\" size=\"28dp\" alt=\"LinkedIn\" color=\"brand\" type=\"linkedin-logo\">\\n            <svg width=\"102\" height=\"26\" viewbox=\"0 0 102 26\" fill=\"none\" xmlns=\"http://www.w3.org/2000/svg\" id=\"linkedin-logo\" preserveaspectratio=\"xMinYMin meet\" focusable=\"false\">\\n                <path d=\"M13 10H17V22H13V10ZM15 3.8C14.5671 3.80984 14.1468 3.94718 13.7917 4.19483C13.4365 4.44247 13.1623 4.7894 13.0035 5.19217C12.8446 5.59493 12.8081 6.03562 12.8985 6.45903C12.989 6.88244 13.2024 7.26975 13.5119 7.57245C13.8215 7.87514 14.2135 8.07976 14.6389 8.16067C15.0642 8.24159 15.504 8.1952 15.903 8.02732C16.3021 7.85943 16.6428 7.57752 16.8824 7.2169C17.122 6.85627 17.2499 6.43297 17.25 6C17.2515 5.70645 17.1939 5.4156 17.0807 5.14474C16.9675 4.87388 16.801 4.62854 16.5911 4.42331C16.3812 4.21808 16.1322 4.05714 15.8589 3.95006C15.5855 3.84299 15.2934 3.79195 15 3.8ZM4 4H0V22H11V18H4V4ZM57.9 16.2C57.9 16.61 57.9 16.86 57.9 17H48.9C48.9021 17.169 48.9256 17.337 48.97 17.5C49.1765 18.0933 49.5745 18.6011 50.1014 18.9433C50.6282 19.2855 51.254 19.4427 51.88 19.39C52.4142 19.4129 52.9468 19.3171 53.4396 19.1096C53.9324 18.9021 54.3731 18.5881 54.73 18.19L57.45 19.87C56.7533 20.6812 55.88 21.322 54.8971 21.7433C53.9142 22.1645 52.8479 22.3549 51.78 22.3C48.19 22.3 45.12 20.25 45.12 16.11C45.091 15.2506 45.2411 14.3946 45.5608 13.5963C45.8804 12.798 46.3626 12.075 46.9767 11.4731C47.5908 10.8712 48.3234 10.4037 49.128 10.1001C49.9325 9.7966 50.7914 9.66374 51.65 9.71C55.08 9.71 57.9 12 57.9 16.2ZM54.15 14.69C54.16 14.3669 54.0997 14.0455 53.9731 13.748C53.8466 13.4506 53.6569 13.1842 53.4172 12.9673C53.1775 12.7504 52.8935 12.5883 52.5849 12.492C52.2763 12.3958 51.9505 12.3678 51.63 12.41C50.9638 12.3515 50.3013 12.558 49.7865 12.9849C49.2716 13.4118 48.9459 14.0245 48.88 14.69H54.15ZM68 4H72V22H68.61V20.57C68.1486 21.1444 67.5541 21.5977 66.878 21.8904C66.2019 22.1832 65.4646 22.3066 64.73 22.25C62.22 22.25 59.18 20.39 59.18 16C59.18 12.08 61.87 9.75 64.68 9.75C65.299 9.72159 65.9167 9.82856 66.4902 10.0634C67.0636 10.2983 67.5788 10.6555 68 11.11V4ZM68.3 16C68.3 14.12 67.13 12.87 65.64 12.87C65.2366 12.8697 64.8373 12.9508 64.466 13.1084C64.0946 13.266 63.7589 13.4969 63.4788 13.7872C63.1988 14.0775 62.9801 14.4214 62.836 14.7981C62.6919 15.1749 62.6252 15.5769 62.64 15.98C62.6279 16.3815 62.6966 16.7813 62.842 17.1557C62.9874 17.5301 63.2064 17.8716 63.4862 18.1597C63.766 18.4479 64.1008 18.677 64.4708 18.8333C64.8407 18.9897 65.2383 19.0702 65.64 19.07C66.0201 19.0542 66.393 18.9609 66.7357 18.7957C67.0785 18.6305 67.3838 18.3969 67.6329 18.1094C67.8821 17.8219 68.0698 17.4864 68.1845 17.1236C68.2992 16.7609 68.3385 16.3785 68.3 16ZM45.76 10H41L37.07 14.9H37V4H33V22H37V16.27H37.07L41.07 22H46L41 15.48L45.76 10ZM26.53 9.7C25.7825 9.68818 25.0441 9.8653 24.3833 10.2149C23.7226 10.5645 23.1607 11.0754 22.75 11.7H22.7V10H19V22H23V15.47C22.956 15.1525 22.9801 14.8292 23.0706 14.5216C23.1611 14.2141 23.316 13.9294 23.525 13.6863C23.7341 13.4432 23.9924 13.2474 24.2829 13.1118C24.5734 12.9763 24.8894 12.9041 25.21 12.9C26.31 12.9 27 13.49 27 15.42V22H31V14.56C31 10.91 28.71 9.7 26.53 9.7ZM102 2V24C102 24.5304 101.789 25.0391 101.414 25.4142C101.039 25.7893 100.53 26 100 26H78C77.4696 26 76.9609 25.7893 76.5858 25.4142C76.2107 25.0391 76 24.5304 76 24V2C76 1.46957 76.2107 0.960859 76.5858 0.585786C76.9609 0.210714 77.4696 0 78 0L100 0C100.53 0 101.039 0.210714 101.414 0.585786C101.789 0.960859 102 1.46957 102 2ZM84 10H80V22H84V10ZM84.25 6C84.2599 5.553 84.1365 5.11317 83.8954 4.73664C83.6542 4.36011 83.3064 4.06396 82.8962 3.88597C82.4861 3.70798 82.0322 3.65622 81.5925 3.73731C81.1528 3.8184 80.7472 4.02865 80.4275 4.34124C80.1079 4.65382 79.8885 5.05456 79.7976 5.49233C79.7066 5.9301 79.7482 6.38503 79.9169 6.79909C80.0856 7.21314 80.3739 7.56754 80.7449 7.81706C81.1159 8.06657 81.5529 8.19989 82 8.2C82.2934 8.20805 82.5855 8.15701 82.8588 8.04994C83.1322 7.94286 83.3812 7.78192 83.5911 7.57669C83.801 7.37146 83.9675 7.12612 84.0807 6.85526C84.1939 6.5844 84.2514 6.29355 84.25 6ZM98 14.56C98 10.91 95.71 9.66 93.53 9.66C92.7782 9.65542 92.0375 9.84096 91.3766 10.1994C90.7158 10.5578 90.1562 11.0774 89.75 11.71V10H86V22H90V15.47C89.956 15.1525 89.9801 14.8292 90.0706 14.5216C90.1611 14.2141 90.316 13.9294 90.525 13.6863C90.7341 13.4432 90.9924 13.2474 91.2829 13.1118C91.5734 12.9763 91.8894 12.9041 92.21 12.9C93.31 12.9 94 13.49 94 15.42V22H98V14.56Z\" fill=\"#0A66C2\"></path>\\n            </svg>\\n        </li-icon>\\n\\n  \\n    </a>\\n  \\n      \\n      \\n            \\n      </header>\\n\\n      <main class=\"app__content\" role=\"main\">\\n        \\n              \\n        \\n          \\n<!----><!---->  \\n          \\n    \\n    \\n    \\n    \\n    \\n    \\n    \\n    \\n\\n    <form method=\"post\" id=\"otp-generation\" class=\"hidden\">\\n      \\n    <input name=\"csrfToken\" value=\"ajax:5468679152843138794\" type=\"hidden\">  \\n\\n      <input name=\"resendUrl\" id=\"input-resend-otp-url\" type=\"hidden\">\\n      <input name=\"midToken\" type=\"hidden\">\\n      <input name=\"session_redirect\" value=\"https://www.linkedin.com/feed/\" type=\"hidden\">\\n      <input name=\"parentPageKey\" value=\"d_checkpoint_lg_consumerLogin\" type=\"hidden\">\\n      <input name=\"pageInstance\" value=\"urn:li:page:checkpoint_lg_uasLogin;cJk2wAsYQKC4KnqrwYTmWA==\" type=\"hidden\">\\n      <input name=\"controlId\" value=\"d_checkpoint_lg_consumerLogin-SignInUsingOneTimeSignInLink\" type=\"hidden\">\\n      <input name=\"session_redirect\" value=\"https://www.linkedin.com/feed/\" type=\"hidden\">\\n      <input name=\"trk\" type=\"hidden\">\\n      <input name=\"authUUID\" type=\"hidden\">\\n      <input name=\"encrypted_session_key\" type=\"hidden\">\\n<!---->    </form>\\n    <code id=\"i18nOtpSuccessMessage\" style=\"display: none\"><!--\"We’ve sent a one time link to your email address. Don’t see it? Check your spam folder.\"--></code>\\n    <code id=\"i18nOtpErrorMessage\" style=\"display: none\"><!--\"An unexpected error has occurred. Please try again.\"--></code>\\n    <code id=\"i18nOtpRestrictedMessage\" style=\"display: none\"><!--\"For the security of your account, you should contact us to sign in with your one-time password from the \\\\u003ca href=\\\\\"/help/linkedin/ask/MPRRF\\\\\"\\\\u003eLinkedIn Help Center.\\\\u003c/a\\\\u003e\"--></code>\\n<!----><!---->  \\n        \\n    <div data-litms-pageview=\"true\"></div>\\n  \\n        <div class=\"card-layout\">\\n          <div id=\"organic-div\">\\n            \\n    \\n    \\n    \\n    \\n\\n    <div class=\"header__content \">\\n    <h1 class=\"header__content__heading \">\\n        Sign in\\n    </h1>\\n    <p class=\"header__content__subheading \">\\n              Stay updated on your professional world.\\n          </p>\\n  </div>\\n  \\n<!---->            \\n    \\n    \\n    \\n    \\n    \\n\\n    <form method=\"post\" class=\"login__form\" action=\"/checkpoint/lg/login-submit\" novalidate>\\n        \\n    <input name=\"csrfToken\" value=\"ajax:5468679152843138794\" type=\"hidden\">  \\n        \\n    \\n    \\n    \\n    \\n    \\n    \\n    \\n    \\n    \\n    \\n    \\n    \\n    \\n\\n    <code id=\"login_form_validation_error_username\" style=\"display: none\"><!--\"Please enter a valid username.\"--></code>\\n    <code id=\"consumer_login__text_plain__large_username\" style=\"display: none\"><!--\"Email or phone number must be between 3 to 128 characters.\"--></code>\\n      <code id=\"consumer_login__text_plain__no_username\" style=\"display: none\"><!--\"Please enter an email address or phone number.\"--></code>\\n\\n    <div class=\"form__input--floating mt-24\">\\n<!---->      <input id=\"username\" name=\"session_key\" aria-describedby=\"error-for-username\" required validation=\"email|tel\" value autofocus autocomplete=\"username\" aria-label=\"Email or phone\" type=\"text\">\\n        <label class=\"form__label--floating\" for=\"username\" aria-hidden=\"true\">\\n          Email or phone\\n        </label>\\n      <div error-for=\"username\" id=\"error-for-username\" class=\"form__label--error  hidden\" role=\"alert\" aria-live=\"assertive\">\\n<!---->      </div>\\n    </div>\\n    <code id=\"domainSuggestion\" style=\"display: none\"><!--false--></code>\\n  \\n        <input name=\"ac\" value=\"0\" type=\"hidden\">\\n        <input name=\"loginFailureCount\" value=\"0\" type=\"hidden\">\\n      <input name=\"sIdString\" value=\"75afbb15-f53e-407a-8c3e-0e46b1db7a5b\" type=\"hidden\">\\n      \\n      <input id=\"pkSupported\" name=\"pkSupported\" value=\"false\" type=\"hidden\">\\n\\n      <input name=\"parentPageKey\" value=\"d_checkpoint_lg_consumerLogin\" type=\"hidden\">\\n      <input name=\"pageInstance\" value=\"urn:li:page:checkpoint_lg_uasLogin;cJk2wAsYQKC4KnqrwYTmWA==\" type=\"hidden\">\\n      <input name=\"trk\" type=\"hidden\">\\n      <input name=\"authUUID\" type=\"hidden\">\\n      <input name=\"session_redirect\" value=\"https://www.linkedin.com/feed/\" type=\"hidden\">\\n      <input name=\"loginCsrfParam\" value=\"e84f0b46-677f-4657-8921-8686eb13d4a0\" type=\"hidden\">\\n      <input name=\"fp_data\" value=\"default\" id=\"fp_data_login\" type=\"hidden\">\\n      <input name=\"apfc\" value=\"{}\" id=\"apfc-login\" type=\"hidden\">\\n\\n      <input name=\"_d\" value=\"d\" type=\"hidden\">\\n<!----><!---->        <input name=\"showGoogleOneTapLogin\" value=\"true\" type=\"hidden\">\\n        <input name=\"showAppleLogin\" value=\"true\" type=\"hidden\">\\n        <input name=\"showMicrosoftLogin\" value=\"true\" type=\"hidden\">\\n        <code id=\"i18nShow\" style=\"display: none\"><!--\"Show\"--></code>\\n        <code id=\"i18nHide\" style=\"display: none\"><!--\"Hide\"--></code>\\n          <input name=\"controlId\" value=\"d_checkpoint_lg_consumerLogin-login_submit_button\" type=\"hidden\">\\n          \\n    \\n    \\n    \\n    \\n    \\n    \\n\\n    <code id=\"consumer_login__text_plain__empty_password\" style=\"display: none\"><!--\"Please enter a password.\"--></code>\\n    <code id=\"consumer_login__text_plain__small_password\" style=\"display: none\"><!--\"The password you provided must have at least 6 characters.\"--></code>\\n    <code id=\"consumer_login__text_plain__large_password\" style=\"display: none\"><!--\"The password you provided must have at most 400 characters.\"--></code>\\n    <code id=\"consumer_login__text_plain__wrong_password\" style=\"display: none\"><!--\"Hmm, that’s not the right password. Please try again\"--></code>\\n    <code id=\"consumer_login__text_plain__large_password_200_chars\" style=\"display: none\"><!--\"The password you provided must have at most 200 characters.\"--></code>\\n\\n    <div class=\"form__input--floating mt-24\">\\n<!---->      <input id=\"password\" aria-describedby=\"error-for-password\" name=\"session_password\" required validation=\"password\" autocomplete=\"current-password\" aria-label=\"Password\" type=\"password\">\\n        <label for=\"password\" class=\"form__label--floating\" aria-hidden=\"true\">\\n            Password\\n        </label>\\n      <span id=\"password-visibility-toggle\" class=\"button__password-visibility\" role=\"button\" tabindex=\"0\">\\n        Show\\n      </span>\\n      <div error-for=\"password\" id=\"error-for-password\" class=\"form__label--error  hidden\" role=\"alert\" aria-live=\"assertive\">\\n<!---->      </div>\\n    </div>\\n  \\n          <a href=\"/checkpoint/rp/request-password-reset?session_redirect=https%3A%2F%2Fwww%2Elinkedin%2Ecom%2Ffeed%2F\" class=\"btn__tertiary--medium forgot-password\" data-cie-control-urn=\"forgot-password-btn\">\\n            Forgot password?\\n          </a>\\n\\n<!---->\\n<!---->\\n        <div class=\"login__form_action_container \">\\n<!---->          <button class=\"btn__primary--large from__button--floating\" data-litms-control-urn=\"login-submit\" aria-label=\"Sign in\" type=\"submit\">\\n              Sign in\\n          </button>\\n        </div>\\n      \\n    </form>\\n  \\n              <div class=\"alternate-signin-container\">\\n                \\n      \\n    \\n\\n    <div id=\"or-separator\" class=\"or-separator mt-12 snapple-seperator hidden\">\\n      <span class=\"or-text\">or</span>\\n    </div>\\n  \\n<!----><!----><!---->          \\n    \\n    \\n\\n        <code id=\"termsAndConditionsSkipTreatment\" style=\"display: none\"><!--\"enabled\"--></code>\\n        <p class=\"google-auth-button__tc\">\\n          By clicking Continue, you agree to LinkedIn’s <a href=\"/legal/user-agreement\" target=\"_blank\" data-tracking-will-navigate=\"true\">User Agreement</a>, <a href=\"/legal/privacy-policy\" target=\"_blank\" data-tracking-will-navigate=\"true\">Privacy Policy</a>, and <a href=\"/legal/cookie-policy\" target=\"_blank\" data-tracking-will-navigate=\"true\">Cookie Policy</a>.\\n        </p>\\n      <div class=\"alternate-signin__btn--google invisible  mt-12\"></div>\\n  \\n        \\n    \\n    \\n    \\n    \\n\\n<!---->  \\n<!---->        \\n    \\n    \\n\\n    <button class=\"sign-in-with-apple-button hidden\" aria-label=\"Sign in with Apple\" type=\"button\">\\n      \\n\\n        <svg width=\"24\" height=\"24\" viewbox=\"0 2 24 24\" fill=\"none\" xmlns=\"http://www.w3.org/2000/svg\">\\n            <rect width=\"24\" height=\"24\" fill=\"transparent\"></rect>\\n            <path d=\"M17.569 12.6254C17.597 15.652 20.2179 16.6592 20.247 16.672C20.2248 16.743 19.8282 18.1073 18.8662 19.5166C18.0345 20.735 17.1714 21.9488 15.8117 21.974C14.4756 21.9986 14.046 21.1799 12.5185 21.1799C10.9915 21.1799 10.5142 21.9489 9.2495 21.9987C7.93704 22.0485 6.93758 20.6812 6.09906 19.4673C4.38557 16.9842 3.0761 12.4508 4.83438 9.39061C5.70786 7.87092 7.26882 6.90859 8.96311 6.88391C10.2519 6.85927 11.4683 7.753 12.2562 7.753C13.0436 7.753 14.5219 6.67821 16.0759 6.83605C16.7265 6.8632 18.5527 7.09947 19.7253 8.81993C19.6309 8.87864 17.5463 10.095 17.569 12.6254ZM15.058 5.1933C15.7548 4.34789 16.2238 3.171 16.0959 2C15.0915 2.04046 13.877 2.67085 13.1566 3.5158C12.5109 4.26404 11.9455 5.46164 12.0981 6.60946C13.2176 6.69628 14.3612 6.03925 15.058 5.1933Z\" fill=\"black\"></path>\\n        </svg>\\n  \\n      <span class=\"sign-in-with-apple-button__text\">\\n        Sign in with Apple\\n      </span>\\n    </button>\\n    <code id=\"appleSignInLibScriptPath\" style=\"display: none\"><!--\"https://static.licdn.com/sc/h/1gpe377m8n1eq73qveizv5onv\"--></code>\\n    <code id=\"i18nErrorAppleSignInGeneralErrorMessage\" style=\"display: none\"><!--\"Something went wrong. Please try using username and password.\"--></code>\\n  \\n        \\n    \\n    \\n    \\n\\n<!---->  \\n\\n<!---->\\n<!---->      \\n    \\n\\n    <a aria-label=\"Sign in with a passkey\" class=\"alternate-signin__btn mt-12\" role=\"button\" id=\"sign-in-with-passkey-btn\" style=\"display:none\">\\n      <span class=\"btn-text\">\\n          Sign in with a passkey\\n      </span>\\n    </a>\\n  \\n<!----><!----><!---->    <code id=\"googleGSILibPath\" style=\"display: none\"><!--\"https://static.licdn.com/sc/h/4k6diadsezedadhkq4uxfxss1\"--></code>\\n    <code id=\"useGoogleGSILibraryTreatment\" style=\"display: none\"><!--\"middle\"--></code>\\n    <code id=\"usePasskeyLogin\" style=\"display: none\"><!--\"support\"--></code>\\n\\n  \\n              </div>\\n          </div>\\n          <div id=\"otp-div\" class=\"hidden\">\\n            \\n    \\n    \\n    \\n    \\n    \\n    \\n    \\n    \\n    \\n    \\n    \\n    \\n      <div class=\"otp-success-container\">\\n        <h2 class=\"otp__header__content\">\\n            We’ve emailed a one-time link to your primary email address\\n        </h2>\\n        <p class=\"medium_text subheader__content\">Click on the link to sign in instantly to your LinkedIn account.</p>\\n        <div class=\"mailbox__logo\" aria-hidden=\"true\">\\n          \\n\\n        <svg width=\"64\" height=\"64\" viewbox=\"0 0 64 64\" fill=\"none\" xmlns=\"http://www.w3.org/2000/svg\">\\n            <path d=\"M1 11H63V54H1V11Z\" fill=\"#95ABC1\"></path>\\n            <path d=\"M1 54L23.1 33.2C24.3 32.1 25.8 31.5 27.5 31.5H36.6C38.2 31.5 39.8 32.1 41 33.2L63 54H1Z\" fill=\"#B4C6D8\"></path>\\n            <path d=\"M63 11L36.5 36.8C34 39.2 29.9 39.2 27.4 36.8L1 11H63Z\" fill=\"#D1DDE9\"></path>\\n        </svg>\\n\\n  \\n        </div>\\n        <p class=\"medium_text footer__content\">If you don’t see the email in your inbox, check your spam folder.</p>\\n        <button class=\"resend-button mt-12\" id=\"btn-resend-otp\" aria-label=\"Resend email\" type=\"button\">\\n          Resend email\\n        </button>\\n        <button class=\"otp-back-button\" id=\"otp-cancel-button\" aria-label=\"Back\">\\n          Back\\n        </button>\\n      </div>\\n<!---->  \\n          </div>\\n        </div>\\n        <div class=\"join-now\">\\n          \\n    \\n    \\n\\n    New to LinkedIn? <a href=\"/signup/cold-join?session_redirect&#61;https%3A%2F%2Fwww.linkedin.com%2Ffeed%2F\" class=\"btn__tertiary--medium join-now-v2__btn\" id=\"join_now\" data-litms-control-urn=\"login_join_now\" data-cie-control-urn=\"join-now-btn\">Join now</a> \\n  \\n        </div>\\n          <div class=\"div_bc\">\\n            <noscript>\\n              <img class=\"bc\" style=\"display:none;\" width=\"1\" height=\"1\" src=\"https://ponf.linkedin.com/pixel/tracking.png?reqid=6fadfc36-589a-4481-8a8e-29734a957b0b&amp;pageInstance=urn:li:page:checkpoint_lg_uasLogin;cJk2wAsYQKC4KnqrwYTmWA==&amp;js=disabled\">\\n            </noscript>\\n          </div>\\n        <div id=\"checkpointGoogleOneTapContainerId\" class=\"googleOneTapContainer global-alert-offset\">\\n          \\n    \\n    \\n\\n      <code id=\"termsAndConditionsSkipTreatment\" style=\"display: none\"><!--true--></code>\\n        <div class=\"google-one-tap-module hidden\">\\n          <div class=\"google-one-tap-module__outline\">\\n            <p class=\"google-one-tap-module__header text-md font-bold text-color-text\">\\n              Agree & Join LinkedIn\\n            </p>\\n            <p class=\"google-one-tap-module__text\">\\n              By clicking Continue, you agree to LinkedIn’s <a href=\"/legal/user-agreement\" target=\"_blank\" data-tracking-will-navigate=\"true\">User Agreement</a>, <a href=\"/legal/privacy-policy\" target=\"_blank\" data-tracking-will-navigate=\"true\">Privacy Policy</a>, and <a href=\"/legal/cookie-policy\" target=\"_blank\" data-tracking-will-navigate=\"true\">Cookie Policy</a>.\\n            </p>\\n          </div>\\n          <div id=\"google-one-tap__container\"></div>\\n        </div>\\n  \\n        </div>\\n        \\n      \\n      \\n            \\n      </main>\\n\\n      \\n              \\n          \\n    \\n    \\n    \\n    \\n    \\n    \\n    \\n    \\n\\n    \\n    \\n    \\n    \\n    \\n    \\n    \\n    \\n    \\n\\n<!---->    <footer class=\"footer__base\" role=\"contentinfo\">\\n        <div class=\"footer__base__wrapper\">\\n          <p class=\"copyright\">\\n              \\n\\n            <li-icon size=\"14dp\" alt=\"LinkedIn\" aria-hidden=\"true\" type=\"linkedin-logo\"><svg preserveaspectratio=\"xMinYMin meet\" focusable=\"false\">\\n                    <g class=\"scaling-icon\" style=\"fill-opacity: 1\">\\n                        <defs>\\n                        </defs>\\n                        <g class=\"logo-14dp\">\\n                            <g class=\"dpi-1\">\\n                                <g class=\"inbug\" stroke=\"none\" stroke-width=\"1\" fill=\"none\" fill-rule=\"evenodd\">\\n                                    <path d=\"M14,1.25 L14,12.75 C14,13.44 13.44,14 12.75,14 L1.25,14 C0.56,14 0,13.44 0,12.75 L0,1.25 C0,0.56 0.56,0 1.25,0 L12.75,0 C13.44,0 14,0.56 14,1.25\" class=\"bug-text-color\" fill=\"#FFFFFF\" transform=\"translate(42.000000, 0.000000)\">\\n                                    </path>\\n                                    <path d=\"M56,1.25 L56,12.75 C56,13.44 55.44,14 54.75,14 L43.25,14 C42.56,14 42,13.44 42,12.75 L42,1.25 C42,0.56 42.56,0 43.25,0 L54.75,0 C55.44,0 56,0.56 56,1.25 Z M47,5 L48.85,5 L48.85,6.016 L48.893,6.016 C49.259,5.541 50.018,4.938 51.25,4.938 C53.125,4.938 54,5.808 54,8 L54,12 L52,12 L52,8.75 C52,7.313 51.672,6.875 50.632,6.875 C49.5,6.875 49,7.75 49,9 L49,12 L47,12 L47,5 Z M44,12 L46,12 L46,5 L44,5 L44,12 Z M46.335,3 C46.335,3.737 45.737,4.335 45,4.335 C44.263,4.335 43.665,3.737 43.665,3 C43.665,2.263 44.263,1.665 45,1.665 C45.737,1.665 46.335,2.263 46.335,3 Z\" class=\"background\" fill=\"#0073B0\"></path>\\n                                </g>\\n                                <g class=\"linkedin-text\">\\n                                    <path d=\"M40,12 L38.107,12 L38.107,11.1 L38.077,11.1 C37.847,11.518 37.125,12.062 36.167,12.062 C34.174,12.062 33,10.521 33,8.5 C33,6.479 34.291,4.938 36.2,4.938 C36.971,4.938 37.687,5.332 37.97,5.698 L38,5.698 L38,2 L40,2 L40,12 Z M36.475,6.75 C35.517,6.75 34.875,7.49 34.875,8.5 C34.875,9.51 35.529,10.25 36.475,10.25 C37.422,10.25 38.125,9.609 38.125,8.5 C38.125,7.406 37.433,6.75 36.475,6.75 L36.475,6.75 Z\" fill=\"#000000\"></path>\\n                                    <path d=\"M31.7628,10.8217 C31.0968,11.5887 29.9308,12.0627 28.4998,12.0627 C26.3388,12.0627 24.9998,10.6867 24.9998,8.4477 C24.9998,6.3937 26.4328,4.9377 28.6578,4.9377 C30.6758,4.9377 31.9998,6.3497 31.9998,8.6527 C31.9998,8.8457 31.9708,8.9997 31.9708,8.9997 L26.8228,8.9997 L26.8348,9.1487 C26.9538,9.8197 27.6008,10.5797 28.6358,10.5797 C29.6528,10.5797 30.2068,10.1567 30.4718,9.8587 L31.7628,10.8217 Z M30.2268,7.9047 C30.2268,7.0627 29.5848,6.4297 28.6508,6.4297 C27.6058,6.4297 26.9368,7.0597 26.8728,7.9047 L30.2268,7.9047 Z\" fill=\"#000000\"></path>\\n                                    <polygon fill=\"#000000\" points=\"18 2 20 2 20 7.882 22.546 5 25 5 21.9 8.199 24.889 12 22.546 12 20 8.515 20 12 18 12\">\\n                                    </polygon>\\n                                    <path d=\"M10,5 L11.85,5 L11.85,5.906 L11.893,5.906 C12.283,5.434 13.031,4.938 14.14,4.938 C16.266,4.938 17,6.094 17,8.285 L17,12 L15,12 L15,8.73 C15,7.943 14.821,6.75 13.659,6.75 C12.482,6.75 12,7.844 12,8.73 L12,12 L10,12 L10,5 Z\" fill=\"#000000\"></path>\\n                                    <path d=\"M7,12 L9,12 L9,5 L7,5 L7,12 Z M8,1.75 C8.659,1.75 9.25,2.341 9.25,3 C9.25,3.659 8.659,4.25 8,4.25 C7.34,4.25 6.75,3.659 6.75,3 C6.75,2.341 7.34,1.75 8,1.75 L8,1.75 Z\" fill=\"#000000\"></path>\\n                                    <polygon fill=\"#000000\" points=\"0 2 2 2 2 10 6 10 6 12 0 12\"></polygon>\\n                                </g>\\n                            </g>\\n                            <g class=\"dpi-gt1\" transform=\"scale(0.2917)\">\\n                                <g class=\"inbug\" stroke=\"none\" stroke-width=\"1\" fill=\"none\" fill-rule=\"evenodd\">\\n                                    <path d=\"M44.5235,0 L3.6185,0 C1.6625,0 0.0005,1.547 0.0005,3.454 L0.0005,44.545 C0.0005,46.452 1.6625,48 3.6185,48 L44.5235,48 C46.4825,48 48.0005,46.452 48.0005,44.545 L48.0005,3.454 C48.0005,1.547 46.4825,0 44.5235,0\" class=\"bug-text-color\" fill=\"#FFFFFF\" transform=\"translate(143.000000, 0.000000)\">\\n                                    </path>\\n                                    <path d=\"M187.5235,0 L146.6185,0 C144.6625,0 143.0005,1.547 143.0005,3.454 L143.0005,44.545 C143.0005,46.452 144.6625,48 146.6185,48 L187.5235,48 C189.4825,48 191.0005,46.452 191.0005,44.545 L191.0005,3.454 C191.0005,1.547 189.4825,0 187.5235,0 Z M162,18 L168.5,18 L168.5,21.266 C169.437,19.388 171.838,17.7 175.445,17.7 C182.359,17.7 184,21.438 184,28.297 L184,41 L177,41 L177,29.859 C177,25.953 176.063,23.75 173.68,23.75 C170.375,23.75 169,26.125 169,29.859 L169,41 L162,41 L162,18 Z M150,41 L157,41 L157,18 L150,18 L150,41 Z M158,10.5 C158,12.985 155.985,15 153.5,15 C151.015,15 149,12.985 149,10.5 C149,8.015 151.015,6 153.5,6 C155.985,6 158,8.015 158,10.5 Z\" class=\"background\" fill=\"#0073B0\"></path>\\n                                </g>\\n                                <g class=\"linkedin-text\">\\n                                    <path d=\"M136,41 L130,41 L130,37.5 C128.908,39.162 125.727,41.3 122.5,41.3 C115.668,41.3 111.2,36.975 111.2,30 C111.2,23.594 114.951,17.7 121.5,17.7 C124.441,17.7 127.388,18.272 129,20.5 L129,7 L136,7 L136,41 Z M123.25,23.9 C119.691,23.9 117.9,26.037 117.9,29.5 C117.9,32.964 119.691,35.2 123.25,35.2 C126.81,35.2 129.1,32.964 129.1,29.5 C129.1,26.037 126.81,23.9 123.25,23.9 L123.25,23.9 Z\" fill=\"#000000\"></path>\\n                                    <path d=\"M108,37.125 C105.722,40.02 101.156,41.3 96.75,41.3 C89.633,41.3 85.2,36.354 85.2,29 C85.2,21.645 90.5,17.7 97.75,17.7 C103.75,17.7 108.8,21.917 108.8,30 C108.8,31.25 108.6,32 108.6,32 L92,32 L92.111,32.67 C92.51,34.873 94.873,36 97.625,36 C99.949,36 101.689,34.988 102.875,33.375 L108,37.125 Z M101.75,27 C101.797,24.627 99.89,22.7 97.328,22.7 C94.195,22.7 92.189,24.77 92,27 L101.75,27 Z\" fill=\"#000000\"></path>\\n                                    <polygon fill=\"#000000\" points=\"63 7 70 7 70 27 78 18 86.75 18 77 28.5 86.375 41 78 41 70 30 70 41 63 41\">\\n                                    </polygon>\\n                                    <path d=\"M37,18 L43,18 L43,21.375 C43.947,19.572 47.037,17.7 50.5,17.7 C57.713,17.7 59,21.957 59,28.125 L59,41 L52,41 L52,29.625 C52,26.969 52.152,23.8 48.5,23.8 C44.8,23.8 44,26.636 44,29.625 L44,41 L37,41 L37,18 Z\" fill=\"#000000\"></path>\\n                                    <path d=\"M29.5,6.125 C31.813,6.125 33.875,8.189 33.875,10.5 C33.875,12.811 31.813,14.875 29.5,14.875 C27.19,14.875 25.125,12.811 25.125,10.5 C25.125,8.189 27.19,6.125 29.5,6.125 L29.5,6.125 Z M26,41 L33,41 L33,18 L26,18 L26,41 Z\" fill=\"#000000\"></path>\\n                                    <polygon fill=\"#000000\" points=\"0 7 7 7 7 34 22 34 22 41 0 41\"></polygon>\\n                                </g>\\n                            </g>\\n                        </g>\\n                    </g>\\n                </svg></li-icon>\\n\\n  \\n            <em>\\n              <span class=\"a11y__label\">\\n                LinkedIn\\n              </span>\\n              © 2024\\n            </em>\\n          </p>\\n          <div>\\n            <ul class=\"footer__base__nav-list\" aria-label=\"Footer Legal Menu\">\\n              <li>\\n                  <a href=\"/legal/user-agreement?trk=d_checkpoint_lg_consumerLogin_ft_user_agreement\">\\n                    User Agreement\\n                  </a>\\n              </li>\\n              <li>\\n                <a href=\"/legal/privacy-policy?trk=d_checkpoint_lg_consumerLogin_ft_privacy_policy\">\\n                  Privacy Policy\\n                </a>\\n              </li>\\n<!---->              <li>\\n                <a href=\"/help/linkedin/answer/34593?lang=en&amp;trk=d_checkpoint_lg_consumerLogin_ft_community_guidelines\">\\n                  Community Guidelines\\n                </a>\\n              </li>\\n              <li>\\n                <a href=\"/legal/cookie-policy?trk=d_checkpoint_lg_consumerLogin_ft_cookie_policy\">\\n                  Cookie Policy\\n                </a>\\n              </li>\\n              <li>\\n                <a href=\"/legal/copyright-policy?trk=d_checkpoint_lg_consumerLogin_ft_copyright_policy\">\\n                  Copyright Policy\\n                </a>\\n              </li>\\n              <li id=\"feedback-request\">\\n                <a href=\"/help/linkedin?trk=d_checkpoint_lg_consumerLogin_ft_send_feedback&amp;lang=en\" target=\"_blank\" rel=\"nofollow noreferrer noopener\">\\n                  Send Feedback\\n                </a>\\n              </li>\\n              \\n              \\n\\n    \\n\\n      <li>\\n        <div class=\"language-selector\">\\n          <button class=\"language-selector__button\" aria-expanded=\"false\">\\n            <span class=\"language-selector__label-text\">Language</span>\\n            <i class=\"language-selector__label-icon\">\\n              \\n\\n        <svg viewbox=\"0 0 16 16\" width=\"16\" height=\"16\" preserveaspectratio=\"xMinYMin meet\" xmlns=\"http://www.w3.org/2000/svg\">\\n            <path d=\"M8 9l5.93-4L15 6.54l-6.15 4.2a1.5 1.5 0 01-1.69 0L1 6.54 2.07 5z\" fill=\"currentColor\"></path>\\n        </svg>\\n  \\n            </i>\\n          </button>\\n          <div class=\"language-selector__dropdown hidden\">\\n            <ul>\\n                <li class=\"language-selector__item\">\\n                  <button class=\"language-selector__link \" aria-label=\"العربية (Arabic) 1 of 36 \" role=\"button\" data-locale=\"ar_AE\" type=\"button\">\\n                      العربية (Arabic)\\n                  </button>\\n                </li>\\n                <li class=\"language-selector__item\">\\n                  <button class=\"language-selector__link \" aria-label=\"বাংলা (Bangla) 2 of 36 \" role=\"button\" data-locale=\"bn_IN\" type=\"button\">\\n                      বাংলা (Bangla)\\n                  </button>\\n                </li>\\n                <li class=\"language-selector__item\">\\n                  <button class=\"language-selector__link \" aria-label=\"Čeština (Czech) 3 of 36 \" role=\"button\" data-locale=\"cs_CZ\" type=\"button\">\\n                      Čeština (Czech)\\n                  </button>\\n                </li>\\n                <li class=\"language-selector__item\">\\n                  <button class=\"language-selector__link \" aria-label=\"Dansk (Danish) 4 of 36 \" role=\"button\" data-locale=\"da_DK\" type=\"button\">\\n                      Dansk (Danish)\\n                  </button>\\n                </li>\\n                <li class=\"language-selector__item\">\\n                  <button class=\"language-selector__link \" aria-label=\"Deutsch (German) 5 of 36 \" role=\"button\" data-locale=\"de_DE\" type=\"button\">\\n                      Deutsch (German)\\n                  </button>\\n                </li>\\n                <li class=\"language-selector__item\">\\n                  <button class=\"language-selector__link \" aria-label=\"Ελληνικά (Greek) 6 of 36 \" role=\"button\" data-locale=\"el_GR\" type=\"button\">\\n                      Ελληνικά (Greek)\\n                  </button>\\n                </li>\\n                <li class=\"language-selector__item\">\\n                  <button class=\"language-selector__link language-selector__link--selected\" aria-label=\"English (English) 7 of 36 selected\" role=\"button\" data-locale=\"en_US\" type=\"button\">\\n                      <strong>English (English)</strong>\\n                  </button>\\n                </li>\\n                <li class=\"language-selector__item\">\\n                  <button class=\"language-selector__link \" aria-label=\"Español (Spanish) 8 of 36 \" role=\"button\" data-locale=\"es_ES\" type=\"button\">\\n                      Español (Spanish)\\n                  </button>\\n                </li>\\n                <li class=\"language-selector__item\">\\n                  <button class=\"language-selector__link \" aria-label=\"فارسی (Persian) 9 of 36 \" role=\"button\" data-locale=\"fa_IR\" type=\"button\">\\n                      فارسی (Persian)\\n                  </button>\\n                </li>\\n                <li class=\"language-selector__item\">\\n                  <button class=\"language-selector__link \" aria-label=\"Suomi (Finnish) 10 of 36 \" role=\"button\" data-locale=\"fi_FI\" type=\"button\">\\n                      Suomi (Finnish)\\n                  </button>\\n                </li>\\n                <li class=\"language-selector__item\">\\n                  <button class=\"language-selector__link \" aria-label=\"Français (French) 11 of 36 \" role=\"button\" data-locale=\"fr_FR\" type=\"button\">\\n                      Français (French)\\n                  </button>\\n                </li>\\n                <li class=\"language-selector__item\">\\n                  <button class=\"language-selector__link \" aria-label=\"हिंदी (Hindi) 12 of 36 \" role=\"button\" data-locale=\"hi_IN\" type=\"button\">\\n                      हिंदी (Hindi)\\n                  </button>\\n                </li>\\n                <li class=\"language-selector__item\">\\n                  <button class=\"language-selector__link \" aria-label=\"Magyar (Hungarian) 13 of 36 \" role=\"button\" data-locale=\"hu_HU\" type=\"button\">\\n                      Magyar (Hungarian)\\n                  </button>\\n                </li>\\n                <li class=\"language-selector__item\">\\n                  <button class=\"language-selector__link \" aria-label=\"Bahasa Indonesia (Indonesian) 14 of 36 \" role=\"button\" data-locale=\"in_ID\" type=\"button\">\\n                      Bahasa Indonesia (Indonesian)\\n                  </button>\\n                </li>\\n                <li class=\"language-selector__item\">\\n                  <button class=\"language-selector__link \" aria-label=\"Italiano (Italian) 15 of 36 \" role=\"button\" data-locale=\"it_IT\" type=\"button\">\\n                      Italiano (Italian)\\n                  </button>\\n                </li>\\n                <li class=\"language-selector__item\">\\n                  <button class=\"language-selector__link \" aria-label=\"עברית (Hebrew) 16 of 36 \" role=\"button\" data-locale=\"iw_IL\" type=\"button\">\\n                      עברית (Hebrew)\\n                  </button>\\n                </li>\\n                <li class=\"language-selector__item\">\\n                  <button class=\"language-selector__link \" aria-label=\"日本語 (Japanese) 17 of 36 \" role=\"button\" data-locale=\"ja_JP\" type=\"button\">\\n                      日本語 (Japanese)\\n                  </button>\\n                </li>\\n                <li class=\"language-selector__item\">\\n                  <button class=\"language-selector__link \" aria-label=\"한국어 (Korean) 18 of 36 \" role=\"button\" data-locale=\"ko_KR\" type=\"button\">\\n                      한국어 (Korean)\\n                  </button>\\n                </li>\\n                <li class=\"language-selector__item\">\\n                  <button class=\"language-selector__link \" aria-label=\"मराठी (Marathi) 19 of 36 \" role=\"button\" data-locale=\"mr_IN\" type=\"button\">\\n                      मराठी (Marathi)\\n                  </button>\\n                </li>\\n                <li class=\"language-selector__item\">\\n                  <button class=\"language-selector__link \" aria-label=\"Bahasa Malaysia (Malay) 20 of 36 \" role=\"button\" data-locale=\"ms_MY\" type=\"button\">\\n                      Bahasa Malaysia (Malay)\\n                  </button>\\n                </li>\\n                <li class=\"language-selector__item\">\\n                  <button class=\"language-selector__link \" aria-label=\"Nederlands (Dutch) 21 of 36 \" role=\"button\" data-locale=\"nl_NL\" type=\"button\">\\n                      Nederlands (Dutch)\\n                  </button>\\n                </li>\\n                <li class=\"language-selector__item\">\\n                  <button class=\"language-selector__link \" aria-label=\"Norsk (Norwegian) 22 of 36 \" role=\"button\" data-locale=\"no_NO\" type=\"button\">\\n                      Norsk (Norwegian)\\n                  </button>\\n                </li>\\n                <li class=\"language-selector__item\">\\n                  <button class=\"language-selector__link \" aria-label=\"ਪੰਜਾਬੀ (Punjabi) 23 of 36 \" role=\"button\" data-locale=\"pa_IN\" type=\"button\">\\n                      ਪੰਜਾਬੀ (Punjabi)\\n                  </button>\\n                </li>\\n                <li class=\"language-selector__item\">\\n                  <button class=\"language-selector__link \" aria-label=\"Polski (Polish) 24 of 36 \" role=\"button\" data-locale=\"pl_PL\" type=\"button\">\\n                      Polski (Polish)\\n                  </button>\\n                </li>\\n                <li class=\"language-selector__item\">\\n                  <button class=\"language-selector__link \" aria-label=\"Português (Portuguese) 25 of 36 \" role=\"button\" data-locale=\"pt_BR\" type=\"button\">\\n                      Português (Portuguese)\\n                  </button>\\n                </li>\\n                <li class=\"language-selector__item\">\\n                  <button class=\"language-selector__link \" aria-label=\"Română (Romanian) 26 of 36 \" role=\"button\" data-locale=\"ro_RO\" type=\"button\">\\n                      Română (Romanian)\\n                  </button>\\n                </li>\\n                <li class=\"language-selector__item\">\\n                  <button class=\"language-selector__link \" aria-label=\"Русский (Russian) 27 of 36 \" role=\"button\" data-locale=\"ru_RU\" type=\"button\">\\n                      Русский (Russian)\\n                  </button>\\n                </li>\\n                <li class=\"language-selector__item\">\\n                  <button class=\"language-selector__link \" aria-label=\"Svenska (Swedish) 28 of 36 \" role=\"button\" data-locale=\"sv_SE\" type=\"button\">\\n                      Svenska (Swedish)\\n                  </button>\\n                </li>\\n                <li class=\"language-selector__item\">\\n                  <button class=\"language-selector__link \" aria-label=\"తెలుగు (Telugu) 29 of 36 \" role=\"button\" data-locale=\"te_IN\" type=\"button\">\\n                      తెలుగు (Telugu)\\n                  </button>\\n                </li>\\n                <li class=\"language-selector__item\">\\n                  <button class=\"language-selector__link \" aria-label=\"ภาษาไทย (Thai) 30 of 36 \" role=\"button\" data-locale=\"th_TH\" type=\"button\">\\n                      ภาษาไทย (Thai)\\n                  </button>\\n                </li>\\n                <li class=\"language-selector__item\">\\n                  <button class=\"language-selector__link \" aria-label=\"Tagalog (Tagalog) 31 of 36 \" role=\"button\" data-locale=\"tl_PH\" type=\"button\">\\n                      Tagalog (Tagalog)\\n                  </button>\\n                </li>\\n                <li class=\"language-selector__item\">\\n                  <button class=\"language-selector__link \" aria-label=\"Türkçe (Turkish) 32 of 36 \" role=\"button\" data-locale=\"tr_TR\" type=\"button\">\\n                      Türkçe (Turkish)\\n                  </button>\\n                </li>\\n                <li class=\"language-selector__item\">\\n                  <button class=\"language-selector__link \" aria-label=\"Українська (Ukrainian) 33 of 36 \" role=\"button\" data-locale=\"uk_UA\" type=\"button\">\\n                      Українська (Ukrainian)\\n                  </button>\\n                </li>\\n                <li class=\"language-selector__item\">\\n                  <button class=\"language-selector__link \" aria-label=\"Tiếng Việt (Vietnamese) 34 of 36 \" role=\"button\" data-locale=\"vi_VN\" type=\"button\">\\n                      Tiếng Việt (Vietnamese)\\n                  </button>\\n                </li>\\n                <li class=\"language-selector__item\">\\n                  <button class=\"language-selector__link \" aria-label=\"简体中文 (Chinese (Simplified)) 35 of 36 \" role=\"button\" data-locale=\"zh_CN\" type=\"button\">\\n                      简体中文 (Chinese (Simplified))\\n                  </button>\\n                </li>\\n                <li class=\"language-selector__item\">\\n                  <button class=\"language-selector__link \" aria-label=\"正體中文 (Chinese (Traditional)) 36 of 36 \" role=\"button\" data-locale=\"zh_TW\" type=\"button\">\\n                      正體中文 (Chinese (Traditional))\\n                  </button>\\n                </li>\\n            </ul>\\n          </div>\\n        </div>\\n      </li>\\n  \\n            \\n            </ul>\\n<!---->          </div>\\n        </div>\\n    </footer>\\n  \\n        \\n    <artdeco-toasts></artdeco-toasts>\\n    <span class=\"hidden toast-success-icon\">\\n      \\n\\n            <li-icon size=\"small\" aria-hidden=\"true\" type=\"success-pebble-icon\"><svg viewbox=\"0 0 24 24\" width=\"24px\" height=\"24px\" x=\"0\" y=\"0\" preserveaspectratio=\"xMinYMin meet\" class=\"artdeco-icon\" focusable=\"false\">\\n                    <g class=\"small-icon\" style=\"fill-opacity: 1\">\\n                        <circle class=\"circle\" r=\"6.1\" stroke=\"currentColor\" stroke-width=\"1.8\" cx=\"8\" cy=\"8\" fill=\"none\" transform=\"rotate(-90 8 8)\"></circle>\\n                        <path d=\"M9.95,5.033l1.2,0.859l-3.375,4.775C7.625,10.875,7.386,10.999,7.13,11c-0.002,0-0.003,0-0.005,0    c-0.254,0-0.493-0.12-0.644-0.325L4.556,8.15l1.187-0.875l1.372,1.766L9.95,5.033z\" fill=\"currentColor\"></path>\\n                    </g>\\n                </svg></li-icon>\\n\\n  \\n    </span>\\n    <span class=\"hidden toast-error-icon\">\\n      \\n\\n        <li-icon size=\"small\" aria-hidden=\"true\" type=\"error-pebble-icon\"><svg viewbox=\"0 0 24 24\" width=\"24px\" height=\"24px\" x=\"0\" y=\"0\" preserveaspectratio=\"xMinYMin meet\" class=\"artdeco-icon\" focusable=\"false\">\\n                <g class=\"small-icon\" style=\"fill-opacity: 1\">\\n                    <circle class=\"circle\" r=\"6.1\" stroke=\"currentColor\" stroke-width=\"1.8\" cx=\"8\" cy=\"8\" fill=\"none\" transform=\"rotate(-90 8 8)\"></circle>\\n                    <path fill=\"currentColor\" d=\"M10.916,6.216L9.132,8l1.784,1.784l-1.132,1.132L8,9.132l-1.784,1.784L5.084,9.784L6.918,8L5.084,6.216l1.132-1.132L8,6.868l1.784-1.784L10.916,6.216z\">\\n                    </path>\\n                </g>\\n            </svg>\\n        </li-icon>\\n\\n  \\n    </span>\\n    <span class=\"hidden toast-notify-icon\">\\n      \\n\\n        <li-icon size=\"small\" aria-hidden=\"true\" type=\"yield-pebble-icon\"><svg viewbox=\"0 0 24 24\" width=\"24px\" height=\"24px\" x=\"0\" y=\"0\" preserveaspectratio=\"xMinYMin meet\" class=\"artdeco-icon\" focusable=\"false\">\\n                <g class=\"small-icon\" style=\"fill-opacity: 1\">\\n                    <circle class=\"circle\" r=\"6.1\" stroke=\"currentColor\" stroke-width=\"1.8\" cx=\"8\" cy=\"8\" fill=\"none\" transform=\"rotate(-90 8 8)\"></circle>\\n                    <path d=\"M7,10h2v2H7V10z M7,9h2V4H7V9z\"></path>\\n                </g>\\n            </svg></li-icon>\\n\\n  \\n    </span>\\n    <span class=\"hidden toast-gdpr-icon\">\\n      \\n\\n        <li-icon aria-hidden=\"true\" size=\"small\" type=\"shield-icon\"><svg viewbox=\"0 0 24 24\" width=\"24px\" height=\"24px\" x=\"0\" y=\"0\" preserveaspectratio=\"xMinYMin meet\" class=\"artdeco-icon\" focusable=\"false\">\\n                <path d=\"M8,1A10.89,10.89,0,0,1,2.87,3,1,1,0,0,0,2,4V9.33a5.67,5.67,0,0,0,2.91,5L8,16l3.09-1.71a5.67,5.67,0,0,0,2.91-5V4a1,1,0,0,0-.87-1A10.89,10.89,0,0,1,8,1ZM4,4.7A12.92,12.92,0,0,0,8,3.26a12.61,12.61,0,0,0,3.15,1.25L4.45,11.2A3.66,3.66,0,0,1,4,9.46V4.7Zm6.11,8L8,13.84,5.89,12.66A3.65,3.65,0,0,1,5,11.92l7-7V9.46A3.67,3.67,0,0,1,10.11,12.66Z\" class=\"small-icon\" style=\"fill-opacity: 1\"></path>\\n            </svg></li-icon>\\n  \\n    </span>\\n    <span class=\"hidden toast-cancel-icon\">\\n      \\n\\n            <li-icon size=\"large\" type=\"cancel-icon\">\\n                <svg x=\"0\" y=\"0\" id=\"cancel-icon\" preserveaspectratio=\"xMinYMin meet\" viewbox=\"0 0 24 24\" width=\"24px\" height=\"24px\" style=\"color: black;\">\\n                    <svg class=\"small-icon\" style=\"fill-opacity: 1;\">\\n                        <path d=\"M12.99,4.248L9.237,8L13,11.763L11.763,13L8,9.237L4.237,13L3,11.763L6.763,8L3,4.237L4.237,3L8,6.763l3.752-3.752L12.99,4.248z\"></path>\\n                    </svg>\\n                    <svg class=\"large-icon\" style=\"fill: currentColor;\">\\n                        <path d=\"M20,5.237l-6.763,6.768l6.743,6.747l-1.237,1.237L12,13.243L5.257,19.99l-1.237-1.237l6.743-6.747L4,5.237L5.237,4L12,10.768L18.763,4L20,5.237z\"></path>\\n                    </svg>\\n                </svg>\\n            </li-icon>\\n\\n  \\n    </span>\\n  \\n      \\n            \\n\\n        <div id=\"loader-wrapper\" class=\"hidden\">\\n          \\n\\n            <li-icon class=\"blue\" size=\"medium\" aria-hidden=\"true\" type=\"loader\">\\n                <div class=\"artdeco-spinner\"><span class=\"artdeco-spinner-bars\"></span><span class=\"artdeco-spinner-bars\"></span><span class=\"artdeco-spinner-bars\"></span><span class=\"artdeco-spinner-bars\"></span><span class=\"artdeco-spinner-bars\"></span><span class=\"artdeco-spinner-bars\"></span><span class=\"artdeco-spinner-bars\"></span><span class=\"artdeco-spinner-bars\"></span><span class=\"artdeco-spinner-bars\"></span><span class=\"artdeco-spinner-bars\"></span><span class=\"artdeco-spinner-bars\"></span><span class=\"artdeco-spinner-bars\"></span></div>\\n            </li-icon>\\n\\n  \\n        </div>\\n    </div>\\n\\n<!---->  \\n        <code id=\"isDesktop\" style=\"display: none\"><!--true--></code>\\n        <script src=\"https://static.licdn.com/sc/h/ctntk0b8ggv3nheym3hg9smyw\" defer></script>\\n        <script src=\"https://static.licdn.com/sc/h/rsw9ft7cxdop94abibtci3ae\" defer></script>\\n        \\n        \\n          <script src=\"https://static.licdn.com/sc/h/dyklr3nd8py6wnrddlexzp55z\" defer></script>\\n          <script src=\"https://static.licdn.com/sc/h/56zfo9qeb8y8waamujmb0twv9\" defer></script>\\n          \\n        \\n    \\n\\n    <code id=\"googleOneTapLibScriptPath\" style=\"display: none\"><!--\"https://static.licdn.com/sc/h/8ddascte8uiyhhufy6qlnhw2b\"--></code>\\n    <code id=\"i18nErrorGoogleOneTapGeneralErrorMessage\" style=\"display: none\"><!--\"Something went wrong. Please try using username and password.\"--></code>\\n    <code id=\"googleUseAutoSelect\" style=\"display: none\"><!--true--></code>\\n  \\n      \\n    \\n\\n    <code id=\"googleSignInLibScriptPath\" style=\"display: none\"><!--\"https://static.licdn.com/sc/h/84fpq9merojrilm067r9x3jdk\"--></code>\\n    <code id=\"i18nErrorGoogleSignInGeneralErrorMessage\" style=\"display: none\"><!--\"Something went wrong. Please try using username and password.\"--></code>\\n  \\n  \\n        <code id=\"apfcDfPK\" style=\"display: none\"><!--\"MIIBIjANBgkqhkiG9w0BAQEFAAOCAQ8AMIIBCgKCAQEAqyVTa3Pi5twlDxHc34nl3MlTHOweIenIid6hDqVlh5/wcHzIxvB9nZjObW3HWfwqejGM+n2ZGbo9x8R7ByS3/V4qRgAs1z4aB6F5+HcXsx8uVrQfwigK0+u7d3g1s7H8qUaguMPHxNnyj5EisTJBh2jf9ODp8TpWnhAQHCCSZcDM4JIoIlsVdGmv+dGlzZzmf1if26U4KJqFdrqS83r3nGWcEpXWiQB+mx/EX4brbrhOFCvfPovvsLEjMTm0UC68Bvki3UsB/vkkMPW9cxNiiJJdnDkOEEdQPuFmPug+sqhACl3IIHLVBFM7vO0ca14rcCNSbSDaaKOY6BQoW1A30wIDAQAB\"--></code>\\n        <code id=\"apfcDfPKV\" style=\"display: none\"><!--\"2\"--></code>\\n        <script src=\"https://static.licdn.com/sc/h/473v2cdto9klp3y6gfjcs28u2\" defer></script>\\n        <code id=\"lix_cv_scoring_login_get_fingerprint\" style=\"display: none\"><!--\"control\"--></code>\\n<!---->        <code id=\"usePasskeyLogin\" style=\"display: none\"><!--\"support\"--></code>\\n<!---->        <script src=\"https://static.licdn.com/sc/h/ampzitlbbpoz57jxnfdtc90o8\" defer></script>\\n<!---->      \\n      \\n      \\n      </body>\\n    </html>\\n  \\n  \\n  \\n  \\n  \\n  \\n  '"
            ]
          },
          "execution_count": 4,
          "metadata": {},
          "output_type": "execute_result"
        }
      ],
      "source": [
        "import requests\n",
        "\n",
        "def read_txt_from_web(url):\n",
        "    response = requests.get(url)\n",
        "    response.raise_for_status()  # Check for request errors\n",
        "    return response.text\n",
        "read_txt_from_web('https://www.linkedin.com/feed/')"
      ]
    },
    {
      "cell_type": "code",
      "execution_count": null,
      "metadata": {
        "id": "SdPo4ZqcLl83",
        "outputId": "76530a17-0a5c-487b-ab43-13c3b4bab29e"
      },
      "outputs": [
        {
          "data": {
            "text/html": [
              "<div>\n",
              "<style scoped>\n",
              "    .dataframe tbody tr th:only-of-type {\n",
              "        vertical-align: middle;\n",
              "    }\n",
              "\n",
              "    .dataframe tbody tr th {\n",
              "        vertical-align: top;\n",
              "    }\n",
              "\n",
              "    .dataframe thead th {\n",
              "        text-align: right;\n",
              "    }\n",
              "</style>\n",
              "<table border=\"1\" class=\"dataframe\">\n",
              "  <thead>\n",
              "    <tr style=\"text-align: right;\">\n",
              "      <th></th>\n",
              "      <th>country</th>\n",
              "      <th>beer_servings</th>\n",
              "      <th>spirit_servings</th>\n",
              "      <th>wine_servings</th>\n",
              "      <th>total_litres_of_pure_alcohol</th>\n",
              "      <th>continent</th>\n",
              "    </tr>\n",
              "  </thead>\n",
              "  <tbody>\n",
              "    <tr>\n",
              "      <th>0</th>\n",
              "      <td>Afghanistan</td>\n",
              "      <td>0</td>\n",
              "      <td>0</td>\n",
              "      <td>0</td>\n",
              "      <td>0.0</td>\n",
              "      <td>AS</td>\n",
              "    </tr>\n",
              "    <tr>\n",
              "      <th>1</th>\n",
              "      <td>Albania</td>\n",
              "      <td>89</td>\n",
              "      <td>132</td>\n",
              "      <td>54</td>\n",
              "      <td>4.9</td>\n",
              "      <td>EU</td>\n",
              "    </tr>\n",
              "    <tr>\n",
              "      <th>2</th>\n",
              "      <td>Algeria</td>\n",
              "      <td>25</td>\n",
              "      <td>0</td>\n",
              "      <td>14</td>\n",
              "      <td>0.7</td>\n",
              "      <td>AF</td>\n",
              "    </tr>\n",
              "    <tr>\n",
              "      <th>3</th>\n",
              "      <td>Andorra</td>\n",
              "      <td>245</td>\n",
              "      <td>138</td>\n",
              "      <td>312</td>\n",
              "      <td>12.4</td>\n",
              "      <td>EU</td>\n",
              "    </tr>\n",
              "    <tr>\n",
              "      <th>4</th>\n",
              "      <td>Angola</td>\n",
              "      <td>217</td>\n",
              "      <td>57</td>\n",
              "      <td>45</td>\n",
              "      <td>5.9</td>\n",
              "      <td>AF</td>\n",
              "    </tr>\n",
              "    <tr>\n",
              "      <th>...</th>\n",
              "      <td>...</td>\n",
              "      <td>...</td>\n",
              "      <td>...</td>\n",
              "      <td>...</td>\n",
              "      <td>...</td>\n",
              "      <td>...</td>\n",
              "    </tr>\n",
              "    <tr>\n",
              "      <th>188</th>\n",
              "      <td>Venezuela</td>\n",
              "      <td>333</td>\n",
              "      <td>100</td>\n",
              "      <td>3</td>\n",
              "      <td>7.7</td>\n",
              "      <td>SA</td>\n",
              "    </tr>\n",
              "    <tr>\n",
              "      <th>189</th>\n",
              "      <td>Vietnam</td>\n",
              "      <td>111</td>\n",
              "      <td>2</td>\n",
              "      <td>1</td>\n",
              "      <td>2.0</td>\n",
              "      <td>AS</td>\n",
              "    </tr>\n",
              "    <tr>\n",
              "      <th>190</th>\n",
              "      <td>Yemen</td>\n",
              "      <td>6</td>\n",
              "      <td>0</td>\n",
              "      <td>0</td>\n",
              "      <td>0.1</td>\n",
              "      <td>AS</td>\n",
              "    </tr>\n",
              "    <tr>\n",
              "      <th>191</th>\n",
              "      <td>Zambia</td>\n",
              "      <td>32</td>\n",
              "      <td>19</td>\n",
              "      <td>4</td>\n",
              "      <td>2.5</td>\n",
              "      <td>AF</td>\n",
              "    </tr>\n",
              "    <tr>\n",
              "      <th>192</th>\n",
              "      <td>Zimbabwe</td>\n",
              "      <td>64</td>\n",
              "      <td>18</td>\n",
              "      <td>4</td>\n",
              "      <td>4.7</td>\n",
              "      <td>AF</td>\n",
              "    </tr>\n",
              "  </tbody>\n",
              "</table>\n",
              "<p>193 rows × 6 columns</p>\n",
              "</div>"
            ],
            "text/plain": [
              "         country  beer_servings  spirit_servings  wine_servings  \\\n",
              "0    Afghanistan              0                0              0   \n",
              "1        Albania             89              132             54   \n",
              "2        Algeria             25                0             14   \n",
              "3        Andorra            245              138            312   \n",
              "4         Angola            217               57             45   \n",
              "..           ...            ...              ...            ...   \n",
              "188    Venezuela            333              100              3   \n",
              "189      Vietnam            111                2              1   \n",
              "190        Yemen              6                0              0   \n",
              "191       Zambia             32               19              4   \n",
              "192     Zimbabwe             64               18              4   \n",
              "\n",
              "     total_litres_of_pure_alcohol continent  \n",
              "0                             0.0        AS  \n",
              "1                             4.9        EU  \n",
              "2                             0.7        AF  \n",
              "3                            12.4        EU  \n",
              "4                             5.9        AF  \n",
              "..                            ...       ...  \n",
              "188                           7.7        SA  \n",
              "189                           2.0        AS  \n",
              "190                           0.1        AS  \n",
              "191                           2.5        AF  \n",
              "192                           4.7        AF  \n",
              "\n",
              "[193 rows x 6 columns]"
            ]
          },
          "execution_count": 5,
          "metadata": {},
          "output_type": "execute_result"
        }
      ],
      "source": [
        "import pandas as pd\n",
        "\n",
        "def read_csv_from_disk(file_path):\n",
        "    df = pd.read_csv(file_path)\n",
        "    return df\n",
        "read_csv_from_disk('drinks.csv')"
      ]
    },
    {
      "cell_type": "code",
      "execution_count": null,
      "metadata": {
        "id": "lGG33ebtLl85"
      },
      "outputs": [],
      "source": [
        "def read_csv_from_web(url):\n",
        "    df = pd.read_csv(url)\n",
        "    return df\n"
      ]
    },
    {
      "cell_type": "code",
      "execution_count": null,
      "metadata": {
        "id": "A9AdeCYqLl86"
      },
      "outputs": [],
      "source": [
        "def read_xml_from_disk(file_path):\n",
        "    df = pd.read_xml(file_path)\n",
        "    return df\n"
      ]
    },
    {
      "cell_type": "code",
      "execution_count": null,
      "metadata": {
        "id": "nr6UlgzMLl86"
      },
      "outputs": [],
      "source": [
        "def read_xml_from_web(url):\n",
        "    df = pd.read_xml(url)\n",
        "    return df\n"
      ]
    },
    {
      "cell_type": "markdown",
      "metadata": {
        "id": "AbClGVwhLl87"
      },
      "source": [
        "Writing Data to a Specific Disk Location"
      ]
    },
    {
      "cell_type": "code",
      "execution_count": null,
      "metadata": {
        "id": "IGSLI-5lLl8-"
      },
      "outputs": [],
      "source": [
        "import os\n",
        "\n",
        "def write_to_file(data, file_path, mode='w'):\n",
        "    os.makedirs(os.path.dirname(file_path), exist_ok=True)\n",
        "\n",
        "    if isinstance(data, pd.DataFrame):\n",
        "        if file_path.endswith('.csv'):\n",
        "            data.to_csv(file_path, index=False)\n",
        "        elif file_path.endswith('.xml'):\n",
        "            data.to_xml(file_path)\n",
        "    else:\n",
        "        with open(file_path, mode, encoding='utf-8') as file:\n",
        "            file.write(data)"
      ]
    }
  ],
  "metadata": {
    "kernelspec": {
      "display_name": "Python 3",
      "language": "python",
      "name": "python3"
    },
    "language_info": {
      "codemirror_mode": {
        "name": "ipython",
        "version": 3
      },
      "file_extension": ".py",
      "mimetype": "text/x-python",
      "name": "python",
      "nbconvert_exporter": "python",
      "pygments_lexer": "ipython3",
      "version": "3.12.2"
    },
    "colab": {
      "provenance": [],
      "include_colab_link": true
    }
  },
  "nbformat": 4,
  "nbformat_minor": 0
}